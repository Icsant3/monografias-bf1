{
 "cells": [
  {
   "cell_type": "code",
   "execution_count": 1,
   "metadata": {},
   "outputs": [],
   "source": [
    "##Calculo de proporciones en Estado estacionario para modelo simple-carrier inhibido por CCB (Cloherty et al.,1996)\n",
    "#Sage 9.1\n",
    "#Santiago Bosch 10/2020\n",
    "\n",
    "#Constantes cinéticas\n",
    "var('kL,knL,CCB,k0,kn0,b1,bn1,S1,k1,kn1,b2,bn2,S2,KL')\n",
    "\n",
    "#probabilidades\n",
    "e1_CCB,e1,e1_S1,e2,e2_S2 = var('e1_CCB,e1,e1_S1,e2,e2_S2')"
   ]
  },
  {
   "cell_type": "code",
   "execution_count": 2,
   "metadata": {},
   "outputs": [],
   "source": [
    "eq_e1_CCB = 0 == e1*kL*CCB-e1_CCB*knL\n",
    "eq_e1 = 0 == e1_CCB*knL + e2*kn0 + e1_S1*bn1 -e1*(kL*CCB+b1*S1+k0)\n",
    "eq_e2 = 0 == e1*k0 + e2_S2*bn2 - e2*(kn0 + b2*S2)\n",
    "eq_e2_S2 = 0 == e2*b2*S2 + e1_S1*k1 - e2_S2*(bn2 + kn1)\n",
    "eq_e1_S1 = 0 == e2_S2*kn1 + e1*b1*S1 - e1_S1*(k1 + bn1)\n",
    "eq_EQ = 1 == e1_CCB+e1+e1_S1+e2+e2_S2"
   ]
  },
  {
   "cell_type": "code",
   "execution_count": 3,
   "metadata": {},
   "outputs": [
    {
     "name": "stdout",
     "output_type": "stream",
     "text": [
      "e1_CCB == (S2*b2*bn1*kn1 + (bn1*(bn2 + kn1) + bn2*k1)*kn0)*CCB*kL/((S2*b2*bn1*kn1 + (bn1*(bn2 + kn1) + bn2*k1)*kn0)*CCB*kL + (S2*b2*bn1*kn1 + (S2*b2*(k1 + kn1) + bn2*k1)*S1*b1 + (S2*b2*(k1 + kn1) + (S2*b2 + bn2 + kn1)*bn1 + bn2*k1)*k0 + (S1*b1*(bn2 + k1 + kn1) + bn1*(bn2 + kn1) + bn2*k1)*kn0)*knL)\n"
     ]
    }
   ],
   "source": [
    "SOL = solve([eq_e1_CCB,eq_e1,eq_e2,eq_e2_S2,eq_e1_S1,eq_EQ],e1_CCB,e1,e1_S1,e2,e2_S2)\n",
    "print(SOL[0][0])"
   ]
  },
  {
   "cell_type": "code",
   "execution_count": 4,
   "metadata": {},
   "outputs": [],
   "source": [
    "#Haciendo las cuentas a partir de esto, y asumiendo k1=kn1=bn1=bn2, me dio lo siguiente:\n",
    "#todo en S.I.\n",
    "#GLUT = 20 *10^-12\n",
    "#n = 3.8 *10^-6\n",
    "occu_paper(CCB,GLUT,S1,S2,KL,K1,K2,k0,kn0,k1,kn1)= (CCB*GLUT)/(CCB + (KL*(1+S1/K1*(1+(1+S2/K2)*k1/(kn0+kn1*S2/K2))+(1+S2/K2)*k0/(kn0+kn1*S2/K2))))\n",
    "occu_mio(CCB,GLUT,S1,S2,KL,K1,K2,k0,kn0,k1,kn1)= (CCB*GLUT)/(CCB + (KL*(1+S1/K1*(1+(1+S2/K2)*k1/(3*kn0+kn1*S2/K2))+(1+S2/K2)*k0/(kn0+kn1*S2/(K2*3)))))"
   ]
  },
  {
   "cell_type": "code",
   "execution_count": 5,
   "metadata": {},
   "outputs": [],
   "source": [
    "#Insertamos los valores del paper para el asimetrico, su formula\n",
    "assym_paper=[0,0,0,0]\n",
    "\n",
    "assym_paper[0]=occu_paper(CCB = 50*10^-9,GLUT = 20*10^-12,S1=0,S2=0,KL=130*10^-9,K1=23.6*10^-3,K2=2.4*10^-3,k0=1.4,kn0=14.5,k1=273.3,kn1=273.3)\n",
    "assym_paper[1]=occu_paper(CCB = 50*10^-9,GLUT = 20*10^-12,S1=0,S2=150*10^-3,KL=130*10^-9,K1=23.6*10^-3,K2=2.4*10^-3,k0=1.4,kn0=14.5,k1=273.3,kn1=273.3)\n",
    "assym_paper[2]=occu_paper(CCB = 50*10^-9,GLUT = 20*10^-12,S1=150*10^-3,S2=0,KL=130*10^-9,K1=23.6*10^-3,K2=2.4*10^-3,k0=1.4,kn0=14.5,k1=273.3,kn1=273.3)\n",
    "assym_paper[3]=occu_paper(CCB = 50*10^-9,GLUT = 20*10^-12,S1=150*10^-3,S2=150*10^-3,KL=130*10^-9,K1=23.6*10^-3,K2=2.4*10^-3,k0=1.4,kn0=14.5,k1=273.3,kn1=273.3)"
   ]
  },
  {
   "cell_type": "code",
   "execution_count": 6,
   "metadata": {},
   "outputs": [],
   "source": [
    "#Insertamos los valores del paper para el asimetrico, mi formula\n",
    "assym_mio = [0,0,0,0]\n",
    "\n",
    "assym_mio[0] = occu_mio(CCB = 50*10^-9,GLUT = 20*10^-12,S1=0,S2=0,KL=130*10^-9,K1=23.6*10^-3,K2=2.4*10^-3,k0=1.4,kn0=14.5,k1=273.3,kn1=273.3)\n",
    "assym_mio[1] = occu_mio(CCB = 50*10^-9,GLUT = 20*10^-12,S1=0,S2=150*10^-3,KL=130*10^-9,K1=23.6*10^-3,K2=2.4*10^-3,k0=1.4,kn0=14.5,k1=273.3,kn1=273.3)\n",
    "assym_mio[2] = occu_mio(CCB = 50*10^-9,GLUT = 20*10^-12,S1=150*10^-3,S2=0,KL=130*10^-9,K1=23.6*10^-3,K2=2.4*10^-3,k0=1.4,kn0=14.5,k1=273.3,kn1=273.3)\n",
    "assym_mio[3] = occu_mio(CCB = 50*10^-9,GLUT = 20*10^-12,S1=150*10^-3,S2=150*10^-3,KL=130*10^-9,K1=23.6*10^-3,K2=2.4*10^-3,k0=1.4,kn0=14.5,k1=273.3,kn1=273.3)"
   ]
  },
  {
   "cell_type": "code",
   "execution_count": 7,
   "metadata": {},
   "outputs": [
    {
     "name": "stdout",
     "output_type": "stream",
     "text": [
      "[5.19340974212034, 5.53476893232047, 0.0602677932998558, 0.541792021148207]\n",
      "[5.19340974212034, 5.49376252355535, 0.161028383158332, 0.541813109231216]\n"
     ]
    }
   ],
   "source": [
    "assym_paper_augm= [x * 10^12 for x in assym_paper]\n",
    "print(assym_paper_augm)\n",
    "assym_mio_augm= [x * 10^12 for x in assym_mio]\n",
    "print(assym_mio_augm)"
   ]
  },
  {
   "cell_type": "code",
   "execution_count": 8,
   "metadata": {},
   "outputs": [],
   "source": [
    "#Insertamos los valores del paper para el asimetrico\n",
    "sym_paper=[0,0,0,0]\n",
    "sym_mio=[0,0,0,0]\n",
    "\n",
    "sym_paper[0]=occu_paper(CCB = 50*10^-9,GLUT = 20*10^-12,S1=0,S2=0,KL=130*10^-9,K1=65.3*10^-3,K2=4.9*10^-3,k0=62.5,kn0=117.5,k1=208.3,kn1=391.6)\n",
    "sym_paper[1]=occu_paper(CCB = 50*10^-9,GLUT = 20*10^-12,S1=0,S2=150*10^-3,KL=130*10^-9,K1=65.3*10^-3,K2=4.9*10^-3,k0=62.5,kn0=117.5,k1=208.3,kn1=391.6)\n",
    "sym_paper[2]=occu_paper(CCB = 50*10^-9,GLUT = 20*10^-12,S1=150*10^-3,S2=0,KL=130*10^-9,K1=65.3*10^-3,K2=4.9*10^-3,k0=62.5,kn0=117.5,k1=208.3,kn1=391.6)\n",
    "sym_paper[3]=occu_paper(CCB = 50*10^-9,GLUT = 20*10^-12,S1=150*10^-3,S2=150*10^-3,KL=130*10^-9,K1=65.3*10^-3,K2=4.9*10^-3,k0=62.5,kn0=117.5,k1=208.3,kn1=391.6)\n",
    "\n",
    "sym_mio[0]=occu_mio(CCB = 50*10^-9,GLUT = 20*10^-12,S1=0,S2=0,KL=130*10^-9,K1=65.3*10^-3,K2=4.9*10^-3,k0=62.5,kn0=117.5,k1=208.3,kn1=391.6)\n",
    "sym_mio[1]=occu_mio(CCB = 50*10^-9,GLUT = 20*10^-12,S1=0,S2=150*10^-3,KL=130*10^-9,K1=65.3*10^-3,K2=4.9*10^-3,k0=62.5,kn0=117.5,k1=208.3,kn1=391.6)\n",
    "sym_mio[2]=occu_mio(CCB = 50*10^-9,GLUT = 20*10^-12,S1=150*10^-3,S2=0,KL=130*10^-9,K1=65.3*10^-3,K2=4.9*10^-3,k0=62.5,kn0=117.5,k1=208.3,kn1=391.6)\n",
    "sym_mio[3]=occu_mio(CCB = 50*10^-9,GLUT = 20*10^-12,S1=150*10^-3,S2=150*10^-3,KL=130*10^-9,K1=65.3*10^-3,K2=4.9*10^-3,k0=62.5,kn0=117.5,k1=208.3,kn1=391.6)\n"
   ]
  },
  {
   "cell_type": "code",
   "execution_count": 9,
   "metadata": {},
   "outputs": [
    {
     "name": "stdout",
     "output_type": "stream",
     "text": [
      "[4.01366353543979, 4.96973393638545, 0.928369646659325, 1.50993667730388]\n",
      "[4.01366353543979, 4.12470026434549, 1.38077141621861, 1.42773544022158]\n"
     ]
    }
   ],
   "source": [
    "sym_paper_augm= [x * 10^12 for x in sym_paper]\n",
    "print(sym_paper_augm)\n",
    "sym_mio_augm= [x * 10^12 for x in sym_mio]\n",
    "print(sym_mio_augm)\n"
   ]
  },
  {
   "cell_type": "code",
   "execution_count": 10,
   "metadata": {},
   "outputs": [
    {
     "data": {
      "text/html": [
       "<html><script type=\"math/tex; mode=display\">\\newcommand{\\Bold}[1]{\\mathbf{#1}}\\left( \\mathit{CCB}, \\mathit{GLUT}, S_{1}, S_{2}, \\mathit{KL}, K_{1}, K_{2}, k_{0}, \\mathit{kn}_{0}, \\mathit{bn}_{2}, k_{1}, \\mathit{kn}_{1}, b_{1}, b_{2} \\right) \\ {\\mapsto} \\ \\frac{{\\left(S_{2} b_{2} \\mathit{bn}_{2} \\mathit{kn}_{1} + {\\left({\\left(\\mathit{bn}_{2} + \\mathit{kn}_{1}\\right)} \\mathit{bn}_{2} + \\mathit{bn}_{2} k_{1}\\right)} \\mathit{kn}_{0}\\right)} \\mathit{CCB} \\mathit{GLUT}}{{\\left(S_{2} b_{2} \\mathit{bn}_{2} \\mathit{kn}_{1} + {\\left({\\left(\\mathit{bn}_{2} + \\mathit{kn}_{1}\\right)} \\mathit{bn}_{2} + \\mathit{bn}_{2} k_{1}\\right)} \\mathit{kn}_{0}\\right)} \\mathit{CCB} + {\\left(S_{2} b_{2} \\mathit{bn}_{2} \\mathit{kn}_{1} + {\\left(S_{2} b_{2} {\\left(k_{1} + \\mathit{kn}_{1}\\right)} + \\mathit{bn}_{2} k_{1}\\right)} S_{1} b_{1} + {\\left(S_{2} b_{2} {\\left(k_{1} + \\mathit{kn}_{1}\\right)} + {\\left(S_{2} b_{2} + \\mathit{bn}_{2} + \\mathit{kn}_{1}\\right)} \\mathit{bn}_{2} + \\mathit{bn}_{2} k_{1}\\right)} k_{0} + {\\left(S_{1} b_{1} {\\left(\\mathit{bn}_{2} + k_{1} + \\mathit{kn}_{1}\\right)} + {\\left(\\mathit{bn}_{2} + \\mathit{kn}_{1}\\right)} \\mathit{bn}_{2} + \\mathit{bn}_{2} k_{1}\\right)} \\mathit{kn}_{0}\\right)} \\mathit{KL}}</script></html>"
      ],
      "text/plain": [
       "(CCB, GLUT, S1, S2, KL, K1, K2, k0, kn0, bn2, k1, kn1, b1, b2) |--> (S2*b2*bn2*kn1 + ((bn2 + kn1)*bn2 + bn2*k1)*kn0)*CCB*GLUT/((S2*b2*bn2*kn1 + ((bn2 + kn1)*bn2 + bn2*k1)*kn0)*CCB + (S2*b2*bn2*kn1 + (S2*b2*(k1 + kn1) + bn2*k1)*S1*b1 + (S2*b2*(k1 + kn1) + (S2*b2 + bn2 + kn1)*bn2 + bn2*k1)*k0 + (S1*b1*(bn2 + k1 + kn1) + (bn2 + kn1)*bn2 + bn2*k1)*kn0)*KL)"
      ]
     },
     "metadata": {},
     "output_type": "display_data"
    },
    {
     "name": "stdout",
     "output_type": "stream",
     "text": [
      "[5.19340974212034e-12, 5.49376252355535e-12, 1.61035234623930e-13, 5.41834553667225e-13]\n",
      "[5.19340974212034e-12, 5.49376252355535e-12, 1.61028383158332e-13, 5.41813109231216e-13]\n",
      "[5.19340974212034e-12, 5.53476893232047e-12, 6.02677932998558e-14, 5.41792021148207e-13]\n"
     ]
    }
   ],
   "source": [
    "#A ver si da lo mismo mi simplifiacion que la solucion de la compu (por las dudas)\n",
    "X = (S2*b2*bn1*kn1 + (bn1*(bn2 + kn1) + bn2*k1)*kn0)*CCB/((S2*b2*bn1*kn1 + (bn1*(bn2 + kn1) + bn2*k1)*kn0)*CCB + (S2*b2*bn1*kn1 + (S2*b2*(k1 + kn1) + bn2*k1)*S1*b1 + (S2*b2*(k1 + kn1) + (S2*b2 + bn2 + kn1)*bn1 + bn2*k1)*k0 + (S1*b1*(bn2 + k1 + kn1) + bn1*(bn2 + kn1) + bn2*k1)*kn0)*KL)\n",
    "Y = X.subs(bn1=bn2)\n",
    "\n",
    "solve(CCB,GLUT,S1,S2,KL,K1,K2,k0,kn0,bn2,k1,kn1,b1,b2) = Y*GLUT\n",
    "show(solve)\n",
    "solve_data=[0,0,0,0]\n",
    "\n",
    "solve_data[0]=solve(CCB = 50*10^-9,GLUT = 20*10^-12,S1=0,S2=0,KL=130*10^-9,K1=23.6*10^-3,K2=2.4*10^-3,k0=1.4,kn0=14.5,bn2=273.3,k1=273.3,kn1=273.3,b1=11580,b2=113875)\n",
    "solve_data[1]=solve(CCB = 50*10^-9,GLUT = 20*10^-12,S1=0,S2=150*10^-3,KL=130*10^-9,K1=23.6*10^-3,K2=2.4*10^-3,k0=1.4,kn0=14.5,bn2=273.3,k1=273.3,kn1=273.3,b1=11580,b2=113875)\n",
    "solve_data[2]=solve(CCB = 50*10^-9,GLUT = 20*10^-12,S1=150*10^-3,S2=0,KL=130*10^-9,K1=23.6*10^-3,K2=2.4*10^-3,k0=1.4,kn0=14.5,bn2=273.3,k1=273.3,kn1=273.3,b1=11580,b2=113875)\n",
    "solve_data[3]=solve(CCB = 50*10^-9,GLUT = 20*10^-12,S1=150*10^-3,S2=150*10^-3,KL=130*10^-9,K1=23.6*10^-3,K2=2.4*10^-3,k0=1.4,kn0=14.5,bn2=273.3,k1=273.3,kn1=273.3,b1=11580,b2=113875)\n",
    "\n",
    "print(solve_data)\n",
    "print(assym_mio)\n",
    "print(assym_paper)"
   ]
  },
  {
   "cell_type": "code",
   "execution_count": 11,
   "metadata": {},
   "outputs": [],
   "source": [
    "#simulaciones mas o menos con los datos del articulo que NO USARON\n",
    "test_paper=[0,0,0,0]\n",
    "test_mio=[0,0,0,0]\n",
    "\n",
    "test_paper[0]=occu_paper(CCB = 50*10^-9,GLUT = 20*10^-12,S1=0,S2=0,KL=130*10^-9,K1=97.2*10^-3,K2=9.72*10^-3,k0=0.68,kn0=7,k1=137.1,kn1=137.1)\n",
    "test_paper[1]=occu_paper(CCB = 50*10^-9,GLUT = 20*10^-12,S1=0,S2=150*10^-3,KL=130*10^-9,K1=97.2*10^-3,K2=9.72*10^-3,k0=0.68,kn0=7,k1=137.1,kn1=137.1)\n",
    "test_paper[2]=occu_paper(CCB = 50*10^-9,GLUT = 20*10^-12,S1=150*10^-3,S2=0,KL=130*10^-9,K1=97.2*10^-3,K2=9.72*10^-3,k0=0.68,kn0=7,k1=137.1,kn1=137.1)\n",
    "test_paper[3]=occu_paper(CCB = 50*10^-9,GLUT = 20*10^-12,S1=150*10^-3,S2=150*10^-3,KL=130*10^-9,K1=97.2*10^-3,K2=9.72*10^-3,k0=0.68,kn0=7,k1=137.1,kn1=137.1)\n",
    "\n",
    "test_mio[0]=occu_mio(CCB = 50*10^-9,GLUT = 20*10^-12,S1=0,S2=0,KL=130*10^-9,K1=97.2*10^-3,K2=9.72*10^-3,k0=0.68,kn0=7,k1=137.1,kn1=137.1)\n",
    "test_mio[1]=occu_mio(CCB = 50*10^-9,GLUT = 20*10^-12,S1=0,S2=150*10^-3,KL=130*10^-9,K1=97.2*10^-3,K2=9.72*10^-3,k0=0.68,kn0=7,k1=137.1,kn1=137.1)\n",
    "test_mio[2]=occu_mio(CCB = 50*10^-9,GLUT = 20*10^-12,S1=150*10^-3,S2=0,KL=130*10^-9,K1=97.2*10^-3,K2=9.72*10^-3,k0=0.68,kn0=7,k1=137.1,kn1=137.1)\n",
    "test_mio[3]=occu_mio(CCB = 50*10^-9,GLUT = 20*10^-12,S1=150*10^-3,S2=150*10^-3,KL=130*10^-9,K1=97.2*10^-3,K2=9.72*10^-3,k0=0.68,kn0=7,k1=137.1,kn1=137.1)"
   ]
  },
  {
   "cell_type": "code",
   "execution_count": 12,
   "metadata": {},
   "outputs": [
    {
     "name": "stdout",
     "output_type": "stream",
     "text": [
      "[5.19133788193414, 5.53451508651865, 0.231348741948391, 1.68289413790290]\n",
      "[5.19133788193414, 5.49331453756198, 0.587202465960381, 1.68300702720034]\n"
     ]
    }
   ],
   "source": [
    "test_paper_augm= [x * 10^12 for x in test_paper]\n",
    "print(test_paper_augm)\n",
    "test_mio_augm= [x * 10^12 for x in test_mio]\n",
    "print(test_mio_augm)"
   ]
  },
  {
   "cell_type": "code",
   "execution_count": null,
   "metadata": {},
   "outputs": [],
   "source": []
  }
 ],
 "metadata": {
  "kernelspec": {
   "display_name": "SageMath 9.1",
   "language": "sage",
   "name": "sagemath"
  },
  "language_info": {
   "codemirror_mode": {
    "name": "ipython",
    "version": 3
   },
   "file_extension": ".py",
   "mimetype": "text/x-python",
   "name": "python",
   "nbconvert_exporter": "python",
   "pygments_lexer": "ipython3",
   "version": "3.7.3"
  }
 },
 "nbformat": 4,
 "nbformat_minor": 2
}
